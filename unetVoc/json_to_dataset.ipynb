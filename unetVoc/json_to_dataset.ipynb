{
 "cells": [
  {
   "cell_type": "code",
   "execution_count": 1,
   "id": "993c476e-614b-4b5b-8b86-c8ae15fdc9b4",
   "metadata": {},
   "outputs": [],
   "source": [
    "import base64\n",
    "import json\n",
    "import os\n",
    "import os.path as osp\n",
    "\n",
    "import numpy as np\n",
    "import PIL.Image\n",
    "from labelme import utils"
   ]
  },
  {
   "cell_type": "code",
   "execution_count": 2,
   "id": "94a98018-7836-4db8-ba4b-1606b07cadad",
   "metadata": {},
   "outputs": [
    {
     "name": "stdout",
     "output_type": "stream",
     "text": [
      "Saved 1.jpeg and 1.png\n",
      "Saved 2.jpeg and 2.png\n"
     ]
    }
   ],
   "source": [
    "if __name__ == '__main__':\n",
    "    jpgs_path   = \"datasets/JPEGImages\"\n",
    "    pngs_path   = \"datasets/SegmentationClass\"\n",
    "    #classes     = [\"_background_\",\"aeroplane\", \"bicycle\", \"bird\", \"boat\", \"bottle\", \"bus\", \"car\", \"cat\", \"chair\", \"cow\", \"diningtable\", \"dog\", \"horse\", \"motorbike\", \"person\", \"pottedplant\", \"sheep\", \"sofa\", \"train\", \"tvmonitor\"]\n",
    "    classes     = [\"_background_\",\"y\"]\n",
    "    \n",
    "    count = os.listdir(\"./datasets/before/\") \n",
    "    for i in range(0, len(count)):\n",
    "        path = os.path.join(\"./datasets/before\", count[i])\n",
    "\n",
    "        if os.path.isfile(path) and path.endswith('json'):\n",
    "            data = json.load(open(path))\n",
    "            \n",
    "            if data['imageData']:\n",
    "                imageData = data['imageData']\n",
    "            else:\n",
    "                imagePath = os.path.join(os.path.dirname(path), data['imagePath'])\n",
    "                with open(imagePath, 'rb') as f:\n",
    "                    imageData = f.read()\n",
    "                    imageData = base64.b64encode(imageData).decode('utf-8')\n",
    "\n",
    "            img = utils.img_b64_to_arr(imageData)\n",
    "            label_name_to_value = {'_background_': 0}\n",
    "            for shape in data['shapes']:\n",
    "                label_name = shape['label']\n",
    "                if label_name in label_name_to_value:\n",
    "                    label_value = label_name_to_value[label_name]\n",
    "                else:\n",
    "                    label_value = len(label_name_to_value)\n",
    "                    label_name_to_value[label_name] = label_value\n",
    "            \n",
    "            # label_values must be dense\n",
    "            label_values, label_names = [], []\n",
    "            for ln, lv in sorted(label_name_to_value.items(), key=lambda x: x[1]):\n",
    "                label_values.append(lv)\n",
    "                label_names.append(ln)\n",
    "            assert label_values == list(range(len(label_values)))\n",
    "            \n",
    "            lbl = utils.shapes_to_label(img.shape, data['shapes'], label_name_to_value)\n",
    "            \n",
    "                \n",
    "            PIL.Image.fromarray(img).save(osp.join(jpgs_path, count[i].split(\".\")[0]+'.jpeg'))\n",
    "\n",
    "            new = np.zeros([np.shape(img)[0],np.shape(img)[1]])\n",
    "            for name in label_names:\n",
    "                index_json = label_names.index(name)\n",
    "                index_all = classes.index(name)\n",
    "                new = new + index_all*(np.array(lbl) == index_json)\n",
    "\n",
    "            utils.lblsave(osp.join(pngs_path, count[i].split(\".\")[0]+'.png'), new)\n",
    "            print('Saved ' + count[i].split(\".\")[0] + '.jpeg and ' + count[i].split(\".\")[0] + '.png')"
   ]
  },
  {
   "cell_type": "code",
   "execution_count": null,
   "id": "d6354526-7fa4-4226-a1dc-2da12ceeee03",
   "metadata": {},
   "outputs": [],
   "source": []
  }
 ],
 "metadata": {
  "kernelspec": {
   "display_name": "Python 3 (ipykernel)",
   "language": "python",
   "name": "python3"
  },
  "language_info": {
   "codemirror_mode": {
    "name": "ipython",
    "version": 3
   },
   "file_extension": ".py",
   "mimetype": "text/x-python",
   "name": "python",
   "nbconvert_exporter": "python",
   "pygments_lexer": "ipython3",
   "version": "3.8.12"
  }
 },
 "nbformat": 4,
 "nbformat_minor": 5
}
