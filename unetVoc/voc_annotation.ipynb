{
 "cells": [
  {
   "cell_type": "code",
   "execution_count": 4,
   "id": "4a52732a-7bab-421a-930d-352ef3069de6",
   "metadata": {},
   "outputs": [],
   "source": [
    "import os\n",
    "import random"
   ]
  },
  {
   "cell_type": "code",
   "execution_count": 5,
   "id": "b8db5ca2-5fee-4189-a3d6-7ed0b6a94439",
   "metadata": {},
   "outputs": [],
   "source": [
    "#----------------------------------------------------------------------#\n",
    "#   想要增加测试集修改trainval_percent \n",
    "#   修改train_percent用于改变验证集的比例 9:1\n",
    "#   \n",
    "#   当前该库将测试集当作验证集使用，不单独划分测试集\n",
    "#----------------------------------------------------------------------#\n",
    "trainval_percent    = 1\n",
    "train_percent       = 0.9"
   ]
  },
  {
   "cell_type": "code",
   "execution_count": 6,
   "id": "7cda61a2-9535-4d30-921d-9b8469364087",
   "metadata": {},
   "outputs": [],
   "source": [
    "#-------------------------------------------------------#\n",
    "#   指向VOC数据集所在的文件夹\n",
    "#   默认指向根目录下的VOC数据集\n",
    "#-------------------------------------------------------#\n",
    "VOCdevkit_path  = 'VOCdevkit'"
   ]
  },
  {
   "cell_type": "code",
   "execution_count": 7,
   "id": "c83ce5a7-b7fe-49de-8674-6ab0858fc006",
   "metadata": {},
   "outputs": [
    {
     "name": "stdout",
     "output_type": "stream",
     "text": [
      "Generate txt in ImageSets.\n",
      "train and val size 50\n",
      "traub suze 45\n",
      "Generate txt in ImageSets done.\n"
     ]
    }
   ],
   "source": [
    "if __name__ == \"__main__\":\n",
    "    random.seed(0)\n",
    "    print(\"Generate txt in ImageSets.\")\n",
    "    segfilepath     = os.path.join(VOCdevkit_path, 'VOC2007/SegmentationClass')\n",
    "    saveBasePath    = os.path.join(VOCdevkit_path, 'VOC2007/ImageSets/Segmentation')\n",
    "    \n",
    "    temp_seg = os.listdir(segfilepath)\n",
    "    total_seg = []\n",
    "    for seg in temp_seg:\n",
    "        if seg.endswith(\".png\"):\n",
    "            total_seg.append(seg)\n",
    "\n",
    "    num     = len(total_seg)  \n",
    "    list    = range(num)  \n",
    "    tv      = int(num*trainval_percent)  \n",
    "    tr      = int(tv*train_percent)  \n",
    "    trainval= random.sample(list,tv)  \n",
    "    train   = random.sample(trainval,tr)  \n",
    "    \n",
    "    print(\"train and val size\",tv)\n",
    "    print(\"traub suze\",tr)\n",
    "    ftrainval   = open(os.path.join(saveBasePath,'trainval.txt'), 'w')  \n",
    "    ftest       = open(os.path.join(saveBasePath,'test.txt'), 'w')  \n",
    "    ftrain      = open(os.path.join(saveBasePath,'train.txt'), 'w')  \n",
    "    fval        = open(os.path.join(saveBasePath,'val.txt'), 'w')  \n",
    "    \n",
    "    for i  in list:  \n",
    "        name=total_seg[i][:-4]+'\\n'  \n",
    "        if i in trainval:  \n",
    "            ftrainval.write(name)  \n",
    "            if i in train:  \n",
    "                ftrain.write(name)  \n",
    "            else:  \n",
    "                fval.write(name)  \n",
    "        else:  \n",
    "            ftest.write(name)  \n",
    "    \n",
    "    ftrainval.close()  \n",
    "    ftrain.close()  \n",
    "    fval.close()  \n",
    "    ftest.close()\n",
    "    print(\"Generate txt in ImageSets done.\")"
   ]
  },
  {
   "cell_type": "code",
   "execution_count": null,
   "id": "4f7576cb-0daa-4c14-b1b3-2ed1e2d78d0d",
   "metadata": {},
   "outputs": [],
   "source": []
  }
 ],
 "metadata": {
  "kernelspec": {
   "display_name": "Python 3 (ipykernel)",
   "language": "python",
   "name": "python3"
  },
  "language_info": {
   "codemirror_mode": {
    "name": "ipython",
    "version": 3
   },
   "file_extension": ".py",
   "mimetype": "text/x-python",
   "name": "python",
   "nbconvert_exporter": "python",
   "pygments_lexer": "ipython3",
   "version": "3.8.12"
  }
 },
 "nbformat": 4,
 "nbformat_minor": 5
}
